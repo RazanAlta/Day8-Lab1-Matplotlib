{
 "cells": [
  {
   "cell_type": "code",
   "execution_count": 67,
   "id": "463214ee",
   "metadata": {},
   "outputs": [],
   "source": [
    "import numpy as np\n",
    "import pandas as pd\n",
    "import matplotlib.pyplot as plt"
   ]
  },
  {
   "cell_type": "markdown",
   "id": "5d9650fe",
   "metadata": {},
   "source": [
    "## Q1: Create two charts using list and dataframe"
   ]
  },
  {
   "cell_type": "code",
   "execution_count": 68,
   "id": "7814bbfa",
   "metadata": {},
   "outputs": [
    {
     "data": {
      "text/plain": [
       "[<matplotlib.lines.Line2D at 0x2a99dbdf430>]"
      ]
     },
     "execution_count": 68,
     "metadata": {},
     "output_type": "execute_result"
    },
    {
     "data": {
      "image/png": "[encoded data removed]",
      "text/plain": [
       "<Figure size 432x288 with 1 Axes>"
      ]
     },
     "metadata": {
      "needs_background": "light"
     },
     "output_type": "display_data"
    }
   ],
   "source": [
    "plt.plot(pd.Series([1,2,3,4,5,6]))\n",
    "plt.plot(pd.DataFrame([1,2,3,4,5,6]))"
   ]
  },
  {
   "cell_type": "markdown",
   "id": "b47054b9",
   "metadata": {},
   "source": [
    "## Q2: Create pie chart with equal explode values."
   ]
  },
  {
   "cell_type": "code",
   "execution_count": 69,
   "id": "c8ec89e1",
   "metadata": {},
   "outputs": [
    {
     "data": {
      "text/plain": [
       "([<matplotlib.patches.Wedge at 0x2a99dc43040>,\n",
       "  <matplotlib.patches.Wedge at 0x2a99dc43520>,\n",
       "  <matplotlib.patches.Wedge at 0x2a99dc43a00>,\n",
       "  <matplotlib.patches.Wedge at 0x2a99dc43ee0>],\n",
       " [Text(1.1412678178182487, 0.3708203985925972, ''),\n",
       "  Text(0.37082037187929584, 1.1412678264979264, ''),\n",
       "  Text(-1.1412678438572794, 0.37082031845269275, ''),\n",
       "  Text(0.37082053215910016, -1.1412677744198518, '')])"
      ]
     },
     "execution_count": 69,
     "metadata": {},
     "output_type": "execute_result"
    },
    {
     "data": {
      "image/png": "[encoded data removed]",
      "text/plain": [
       "<Figure size 432x288 with 1 Axes>"
      ]
     },
     "metadata": {},
     "output_type": "display_data"
    }
   ],
   "source": [
    "plt.pie(np.arange(1,5),explode = [0.1,0.1,0.1,0.1])"
   ]
  },
  {
   "cell_type": "markdown",
   "id": "778fae26",
   "metadata": {},
   "source": [
    "## Q3: Create a scatter chart with circle marker, alpha = 0.4, and size = 50."
   ]
  },
  {
   "cell_type": "code",
   "execution_count": 70,
   "id": "6c46aade",
   "metadata": {},
   "outputs": [
    {
     "data": {
      "text/plain": [
       "<matplotlib.collections.PathCollection at 0x2a99dc88e50>"
      ]
     },
     "execution_count": 70,
     "metadata": {},
     "output_type": "execute_result"
    },
    {
     "data": {
      "image/png": "[encoded data removed]",
      "text/plain": [
       "<Figure size 432x288 with 1 Axes>"
      ]
     },
     "metadata": {
      "needs_background": "light"
     },
     "output_type": "display_data"
    }
   ],
   "source": [
    "x = [4,6,3,7,4,9]\n",
    "y = [5,7,4,2,5,8]\n",
    "\n",
    "plt.scatter(x,y,marker =\".\", alpha = 0.4, s = 50)"
   ]
  },
  {
   "cell_type": "markdown",
   "id": "7f07ea21",
   "metadata": {},
   "source": [
    "## Q4: Add the following to your chart:\n",
    "- title placed in the left and has a red color\n",
    "- x and y label with font size = 16"
   ]
  },
  {
   "cell_type": "code",
   "execution_count": 74,
   "id": "d6e700d2",
   "metadata": {},
   "outputs": [
    {
     "data": {
      "text/plain": [
       "<matplotlib.legend.Legend at 0x2a99def2100>"
      ]
     },
     "execution_count": 74,
     "metadata": {},
     "output_type": "execute_result"
    },
    {
     "data": {
      "image/png": "[encoded data removed]",
      "text/plain": [
       "<Figure size 432x288 with 1 Axes>"
      ]
     },
     "metadata": {
      "needs_background": "light"
     },
     "output_type": "display_data"
    }
   ],
   "source": [
    "plt.scatter(x,y,marker =\".\", alpha = 0.4, s = 50)\n",
    "plt.title('count',loc='left', color='r')\n",
    "plt.xlabel('x', fontsize =20)\n",
    "plt.ylabel('y', fontsize =20)\n",
    "\n"
   ]
  },
  {
   "cell_type": "markdown",
   "id": "1e69689c",
   "metadata": {},
   "source": [
    "## Q5: Create three line charts with Legends at left and colors"
   ]
  },
  {
   "cell_type": "code",
   "execution_count": 100,
   "id": "139a9f70",
   "metadata": {},
   "outputs": [
    {
     "ename": "NameError",
     "evalue": "name 'g' is not defined",
     "output_type": "error",
     "traceback": [
      "\u001b[1;31m---------------------------------------------------------------------------\u001b[0m",
      "\u001b[1;31mNameError\u001b[0m                                 Traceback (most recent call last)",
      "Input \u001b[1;32mIn [100]\u001b[0m, in \u001b[0;36m<cell line: 1>\u001b[1;34m()\u001b[0m\n\u001b[1;32m----> 1\u001b[0m plt\u001b[38;5;241m.\u001b[39mplot([\u001b[38;5;241m4\u001b[39m,\u001b[38;5;241m2\u001b[39m,\u001b[38;5;241m6\u001b[39m,\u001b[38;5;241m2\u001b[39m,\u001b[38;5;241m1\u001b[39m], c\u001b[38;5;241m=\u001b[39m\u001b[43mg\u001b[49m)\n\u001b[0;32m      2\u001b[0m plt\u001b[38;5;241m.\u001b[39mplot([\u001b[38;5;241m32\u001b[39m,\u001b[38;5;241m45\u001b[39m,\u001b[38;5;241m12\u001b[39m,\u001b[38;5;241m2\u001b[39m,\u001b[38;5;241m3\u001b[39m], c\u001b[38;5;241m=\u001b[39m\u001b[38;5;124m'\u001b[39m\u001b[38;5;124mb\u001b[39m\u001b[38;5;124m'\u001b[39m)\n\u001b[0;32m      3\u001b[0m plt\u001b[38;5;241m.\u001b[39mplot([\u001b[38;5;241m30\u001b[39m,\u001b[38;5;241m21\u001b[39m,\u001b[38;5;241m3\u001b[39m,\u001b[38;5;241m4\u001b[39m,\u001b[38;5;241m37\u001b[39m], c\u001b[38;5;241m=\u001b[39m\u001b[38;5;124m'\u001b[39m\u001b[38;5;124mr\u001b[39m\u001b[38;5;124m'\u001b[39m)\n",
      "\u001b[1;31mNameError\u001b[0m: name 'g' is not defined"
     ]
    }
   ],
   "source": [
    "plt.plot([4,2,6,2,1], c=g)\n",
    "plt.plot([32,45,12,2,3], c='b')\n",
    "plt.plot([30,21,3,4,37], c='r')\n",
    "# Add Legends\n",
    "plt.legend(['1','2','3'], shadow = True, loc = 2) \n"
   ]
  }
 ],
 "metadata": {
  "kernelspec": {
   "display_name": "Python 3 (ipykernel)",
   "language": "python",
   "name": "python3"
  },
  "language_info": {
   "codemirror_mode": {
    "name": "ipython",
    "version": 3
   },
   "file_extension": ".py",
   "mimetype": "text/x-python",
   "name": "python",
   "nbconvert_exporter": "python",
   "pygments_lexer": "ipython3",
   "version": "3.9.12"
  }
 },
 "nbformat": 4,
 "nbformat_minor": 5
}
